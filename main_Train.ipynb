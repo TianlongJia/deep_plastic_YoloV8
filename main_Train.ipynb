{
 "cells": [
  {
   "attachments": {},
   "cell_type": "markdown",
   "metadata": {},
   "source": [
    "# Model training (YoloV8)\n",
    "\n",
    "Refer to:\n",
    "https://github.com/ultralytics/ultralytics\n",
    "\n",
    "https://blog.roboflow.com/how-to-train-yolov8-on-a-custom-dataset/#how-to-install-yolov8\n",
    "\n",
    "https://docs.ultralytics.com/cfg/\n"
   ]
  },
  {
   "attachments": {},
   "cell_type": "markdown",
   "metadata": {},
   "source": [
    "## Test compatibility between Pytorch verison and CUDA version"
   ]
  },
  {
   "cell_type": "code",
   "execution_count": null,
   "metadata": {},
   "outputs": [],
   "source": [
    "import torch\n",
    "torch.cuda.is_available()"
   ]
  },
  {
   "cell_type": "code",
   "execution_count": null,
   "metadata": {},
   "outputs": [],
   "source": [
    "from IPython import display\n",
    "display.clear_output()\n",
    "\n",
    "import ultralytics\n",
    "ultralytics.checks()"
   ]
  },
  {
   "cell_type": "code",
   "execution_count": null,
   "metadata": {},
   "outputs": [],
   "source": [
    "from ultralytics import YOLO\n",
    "\n",
    "from IPython.display import display, Image"
   ]
  },
  {
   "cell_type": "code",
   "execution_count": null,
   "metadata": {},
   "outputs": [],
   "source": [
    "import os\n",
    "HOME = os.getcwd()\n",
    "print(HOME)"
   ]
  },
  {
   "attachments": {},
   "cell_type": "markdown",
   "metadata": {},
   "source": [
    "## Training the model\n",
    "\n",
    "Training and validation results will be saved in \"project/name\", including best (and last) weights, confusion matrix, and metrics per epoch."
   ]
  },
  {
   "attachments": {},
   "cell_type": "markdown",
   "metadata": {},
   "source": [
    "### (1) Training models using the FTAL strategy\n",
    "pre-train models on COCO and fine-tune all layers on train sets"
   ]
  },
  {
   "cell_type": "code",
   "execution_count": null,
   "metadata": {},
   "outputs": [],
   "source": [
    "# Paper Vitenam\n",
    "\n",
    "\n",
    "# (1) Pretrained on COCO\n",
    "model = YOLO(f'{HOME}/checkpoints/pretrained_weights/yolov8n.pt')\n",
    "\n",
    "# (2) Pretrained on GV\n",
    "# model = YOLO(f'{HOME}/checkpoints/pretrained_weights/GV_COCO.pt')\n",
    "\n",
    "model.train(\n",
    "    data=\"Data/Vietnam_3_class_train.yaml\",\n",
    "    epochs=500,\n",
    "    batch=16,\n",
    "    # imgsz=(5568, 4872),\n",
    "    imgsz=640,\n",
    "    save=True,\n",
    "    project=HOME,\n",
    "    # name=\"checkpoints/trained_weights/Jakarta_60_PreTrain_COCO\",\n",
    "    name=\"checkpoints/trained_weights/Vietnam_3_class_V4_original\",\n",
    "    plots=True\n",
    "    )\n",
    "\n",
    "\n",
    "# Note:\n",
    "# (1) use \"/\" in \"name\""
   ]
  },
  {
   "cell_type": "code",
   "execution_count": null,
   "metadata": {},
   "outputs": [],
   "source": [
    "# Paper generalization\n",
    "\n",
    "\n",
    "# (1) Pretrained on COCO\n",
    "# model = YOLO(f'{HOME}/checkpoints/pretrained_weights/yolov8n.pt')\n",
    "\n",
    "# (2) Pretrained on GV\n",
    "model = YOLO(f'{HOME}/checkpoints/pretrained_weights/GV_COCO.pt')\n",
    "\n",
    "model.train(\n",
    "    data=\"Data/Jakarta_train.yaml\",\n",
    "    epochs=300,\n",
    "    batch=16,\n",
    "    imgsz=224,\n",
    "    save=True,\n",
    "    project=HOME,\n",
    "    # name=\"checkpoints/trained_weights/Jakarta_60_PreTrain_COCO\",\n",
    "    name=\"checkpoints/trained_weights/Jakarta_60_PreTrain_GV_COCO\",\n",
    "    plots=True\n",
    "    )\n",
    "\n",
    "\n",
    "# Note:\n",
    "# (1) use \"/\" in \"name\""
   ]
  },
  {
   "attachments": {},
   "cell_type": "markdown",
   "metadata": {},
   "source": [
    "### (2) Train model from scratch"
   ]
  },
  {
   "cell_type": "code",
   "execution_count": null,
   "metadata": {},
   "outputs": [],
   "source": [
    "# To do:\n",
    "model = YOLO(\"yolov8n.yaml\")\n",
    "model.train(data=\"coco128.yaml\", epochs=5)"
   ]
  },
  {
   "attachments": {},
   "cell_type": "markdown",
   "metadata": {},
   "source": [
    "## Tensorboard"
   ]
  },
  {
   "cell_type": "code",
   "execution_count": null,
   "metadata": {},
   "outputs": [],
   "source": [
    "# load the tensorboard\n",
    "\n",
    "%load_ext tensorboard\n",
    "\n",
    "# if the tensorboard page on VS Code is not so clear, \n",
    "# you can type this (localhost:6006) on web browser after executing this code "
   ]
  },
  {
   "cell_type": "code",
   "execution_count": null,
   "metadata": {},
   "outputs": [],
   "source": [
    "# !tensorboard --logdir \"C:\\Users\\tjian\\Desktop\\events\\SC50\" --bind_all"
   ]
  },
  {
   "attachments": {},
   "cell_type": "markdown",
   "metadata": {},
   "source": [
    "Show the confusion matrix"
   ]
  },
  {
   "cell_type": "code",
   "execution_count": null,
   "metadata": {},
   "outputs": [],
   "source": [
    "%cd {HOME}\n",
    "Image(filename=f'{HOME}/runs/detect/train/confusion_matrix.png', width=600)"
   ]
  },
  {
   "attachments": {},
   "cell_type": "markdown",
   "metadata": {},
   "source": [
    "Show the loss"
   ]
  },
  {
   "cell_type": "code",
   "execution_count": null,
   "metadata": {},
   "outputs": [],
   "source": [
    "%cd {HOME}\n",
    "Image(filename=f'{HOME}/runs/detect/train/results.png', width=600)"
   ]
  },
  {
   "attachments": {},
   "cell_type": "markdown",
   "metadata": {},
   "source": [
    "Show one predicted image"
   ]
  },
  {
   "cell_type": "code",
   "execution_count": null,
   "metadata": {},
   "outputs": [],
   "source": [
    "%cd {HOME}\n",
    "Image(filename=f'{HOME}/runs/detect/train/val_batch0_pred.jpg', width=600)"
   ]
  }
 ],
 "metadata": {
  "kernelspec": {
   "display_name": "YoloV8_DP",
   "language": "python",
   "name": "python3"
  },
  "language_info": {
   "codemirror_mode": {
    "name": "ipython",
    "version": 3
   },
   "file_extension": ".py",
   "mimetype": "text/x-python",
   "name": "python",
   "nbconvert_exporter": "python",
   "pygments_lexer": "ipython3",
   "version": "3.9.12"
  },
  "orig_nbformat": 4,
  "vscode": {
   "interpreter": {
    "hash": "f74d253e4eb56f30f9876e3386f420476fae3ba0f785ecd20d405a135215bce6"
   }
  }
 },
 "nbformat": 4,
 "nbformat_minor": 2
}
